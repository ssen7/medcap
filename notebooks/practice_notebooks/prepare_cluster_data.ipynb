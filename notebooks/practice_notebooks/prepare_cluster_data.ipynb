{
 "cells": [
  {
   "cell_type": "code",
   "execution_count": 1,
   "metadata": {},
   "outputs": [],
   "source": [
    "import numpy as np\n",
    "import pandas as pd\n",
    "\n",
    "import os\n",
    "import pickle"
   ]
  },
  {
   "cell_type": "code",
   "execution_count": 2,
   "metadata": {},
   "outputs": [],
   "source": [
    "patch_path = '/project/GutIntelligenceLab/ss4yd/gtex_data/process_path_level1/'\n",
    "dirs = os.listdir(patch_path)\n",
    "dir_patch_dict = {}\n",
    "for pid in dirs:\n",
    "    patches = [os.path.join(patch_path, pid, x) for x in os.listdir(os.path.join(patch_path, pid))]\n",
    "    dir_patch_dict[pid] = patches\n",
    "    \n",
    "patches = [x for xs in dir_patch_dict.values() for x in xs]"
   ]
  },
  {
   "cell_type": "code",
   "execution_count": 3,
   "metadata": {},
   "outputs": [
    {
     "data": {
      "text/html": [
       "<div>\n",
       "<style scoped>\n",
       "    .dataframe tbody tr th:only-of-type {\n",
       "        vertical-align: middle;\n",
       "    }\n",
       "\n",
       "    .dataframe tbody tr th {\n",
       "        vertical-align: top;\n",
       "    }\n",
       "\n",
       "    .dataframe thead th {\n",
       "        text-align: right;\n",
       "    }\n",
       "</style>\n",
       "<table border=\"1\" class=\"dataframe\">\n",
       "  <thead>\n",
       "    <tr style=\"text-align: right;\">\n",
       "      <th></th>\n",
       "      <th>patch_paths</th>\n",
       "      <th>pid</th>\n",
       "    </tr>\n",
       "  </thead>\n",
       "  <tbody>\n",
       "    <tr>\n",
       "      <th>0</th>\n",
       "      <td>/project/GutIntelligenceLab/ss4yd/gtex_data/pr...</td>\n",
       "      <td>GTEX-R45C-1426</td>\n",
       "    </tr>\n",
       "    <tr>\n",
       "      <th>1</th>\n",
       "      <td>/project/GutIntelligenceLab/ss4yd/gtex_data/pr...</td>\n",
       "      <td>GTEX-R45C-1426</td>\n",
       "    </tr>\n",
       "    <tr>\n",
       "      <th>2</th>\n",
       "      <td>/project/GutIntelligenceLab/ss4yd/gtex_data/pr...</td>\n",
       "      <td>GTEX-R45C-1426</td>\n",
       "    </tr>\n",
       "    <tr>\n",
       "      <th>3</th>\n",
       "      <td>/project/GutIntelligenceLab/ss4yd/gtex_data/pr...</td>\n",
       "      <td>GTEX-R45C-1426</td>\n",
       "    </tr>\n",
       "    <tr>\n",
       "      <th>4</th>\n",
       "      <td>/project/GutIntelligenceLab/ss4yd/gtex_data/pr...</td>\n",
       "      <td>GTEX-R45C-1426</td>\n",
       "    </tr>\n",
       "    <tr>\n",
       "      <th>...</th>\n",
       "      <td>...</td>\n",
       "      <td>...</td>\n",
       "    </tr>\n",
       "    <tr>\n",
       "      <th>715178</th>\n",
       "      <td>/project/GutIntelligenceLab/ss4yd/gtex_data/pr...</td>\n",
       "      <td>GTEX-1I1GV-3026</td>\n",
       "    </tr>\n",
       "    <tr>\n",
       "      <th>715179</th>\n",
       "      <td>/project/GutIntelligenceLab/ss4yd/gtex_data/pr...</td>\n",
       "      <td>GTEX-1LC47-0426</td>\n",
       "    </tr>\n",
       "    <tr>\n",
       "      <th>715180</th>\n",
       "      <td>/project/GutIntelligenceLab/ss4yd/gtex_data/pr...</td>\n",
       "      <td>GTEX-1LC47-0426</td>\n",
       "    </tr>\n",
       "    <tr>\n",
       "      <th>715181</th>\n",
       "      <td>/project/GutIntelligenceLab/ss4yd/gtex_data/pr...</td>\n",
       "      <td>GTEX-1LC47-0426</td>\n",
       "    </tr>\n",
       "    <tr>\n",
       "      <th>715182</th>\n",
       "      <td>/project/GutIntelligenceLab/ss4yd/gtex_data/pr...</td>\n",
       "      <td>GTEX-1LC47-0426</td>\n",
       "    </tr>\n",
       "  </tbody>\n",
       "</table>\n",
       "<p>715183 rows × 2 columns</p>\n",
       "</div>"
      ],
      "text/plain": [
       "                                              patch_paths              pid\n",
       "0       /project/GutIntelligenceLab/ss4yd/gtex_data/pr...   GTEX-R45C-1426\n",
       "1       /project/GutIntelligenceLab/ss4yd/gtex_data/pr...   GTEX-R45C-1426\n",
       "2       /project/GutIntelligenceLab/ss4yd/gtex_data/pr...   GTEX-R45C-1426\n",
       "3       /project/GutIntelligenceLab/ss4yd/gtex_data/pr...   GTEX-R45C-1426\n",
       "4       /project/GutIntelligenceLab/ss4yd/gtex_data/pr...   GTEX-R45C-1426\n",
       "...                                                   ...              ...\n",
       "715178  /project/GutIntelligenceLab/ss4yd/gtex_data/pr...  GTEX-1I1GV-3026\n",
       "715179  /project/GutIntelligenceLab/ss4yd/gtex_data/pr...  GTEX-1LC47-0426\n",
       "715180  /project/GutIntelligenceLab/ss4yd/gtex_data/pr...  GTEX-1LC47-0426\n",
       "715181  /project/GutIntelligenceLab/ss4yd/gtex_data/pr...  GTEX-1LC47-0426\n",
       "715182  /project/GutIntelligenceLab/ss4yd/gtex_data/pr...  GTEX-1LC47-0426\n",
       "\n",
       "[715183 rows x 2 columns]"
      ]
     },
     "execution_count": 3,
     "metadata": {},
     "output_type": "execute_result"
    }
   ],
   "source": [
    "df = pd.DataFrame(patches, columns=['patch_paths'])\n",
    "df['pid'] = df['patch_paths'].apply(lambda x: x.split('/')[-2])\n",
    "df"
   ]
  },
  {
   "cell_type": "code",
   "execution_count": 4,
   "metadata": {},
   "outputs": [
    {
     "data": {
      "text/plain": [
       "GTEX-1IKJJ-3026    1458\n",
       "GTEX-147GR-1426    1125\n",
       "GTEX-13CIG-1426     858\n",
       "GTEX-1IDJV-0826     747\n",
       "GTEX-15UF7-0426     747\n",
       "                   ... \n",
       "GTEX-ZG7Y-2426        1\n",
       "GTEX-14ICL-2026       1\n",
       "GTEX-1GZ4I-0226       1\n",
       "GTEX-1LSNL-2826       1\n",
       "GTEX-1F75W-0926       1\n",
       "Name: pid, Length: 5390, dtype: int64"
      ]
     },
     "execution_count": 4,
     "metadata": {},
     "output_type": "execute_result"
    }
   ],
   "source": [
    "counts = df.pid.value_counts()\n",
    "counts"
   ]
  },
  {
   "cell_type": "code",
   "execution_count": 5,
   "metadata": {},
   "outputs": [
    {
     "data": {
      "text/plain": [
       "GTEX-1IKJJ-3026    1458\n",
       "GTEX-147GR-1426    1125\n",
       "GTEX-13CIG-1426     858\n",
       "GTEX-1IDJV-0826     747\n",
       "GTEX-15UF7-0426     747\n",
       "                   ... \n",
       "GTEX-PVOW-1026       51\n",
       "GTEX-144FL-0726      51\n",
       "GTEX-W5X1-1626       51\n",
       "GTEX-14E7W-2526      51\n",
       "GTEX-WHPG-0426       51\n",
       "Name: pid, Length: 3912, dtype: int64"
      ]
     },
     "execution_count": 5,
     "metadata": {},
     "output_type": "execute_result"
    }
   ],
   "source": [
    "counts[counts>50]"
   ]
  },
  {
   "cell_type": "code",
   "execution_count": 6,
   "metadata": {},
   "outputs": [
    {
     "data": {
      "text/html": [
       "<div>\n",
       "<style scoped>\n",
       "    .dataframe tbody tr th:only-of-type {\n",
       "        vertical-align: middle;\n",
       "    }\n",
       "\n",
       "    .dataframe tbody tr th {\n",
       "        vertical-align: top;\n",
       "    }\n",
       "\n",
       "    .dataframe thead th {\n",
       "        text-align: right;\n",
       "    }\n",
       "</style>\n",
       "<table border=\"1\" class=\"dataframe\">\n",
       "  <thead>\n",
       "    <tr style=\"text-align: right;\">\n",
       "      <th></th>\n",
       "      <th>patch_paths</th>\n",
       "      <th>pid</th>\n",
       "    </tr>\n",
       "  </thead>\n",
       "  <tbody>\n",
       "    <tr>\n",
       "      <th>0</th>\n",
       "      <td>/project/GutIntelligenceLab/ss4yd/gtex_data/pr...</td>\n",
       "      <td>GTEX-R45C-1426</td>\n",
       "    </tr>\n",
       "    <tr>\n",
       "      <th>1</th>\n",
       "      <td>/project/GutIntelligenceLab/ss4yd/gtex_data/pr...</td>\n",
       "      <td>GTEX-R45C-1426</td>\n",
       "    </tr>\n",
       "    <tr>\n",
       "      <th>2</th>\n",
       "      <td>/project/GutIntelligenceLab/ss4yd/gtex_data/pr...</td>\n",
       "      <td>GTEX-R45C-1426</td>\n",
       "    </tr>\n",
       "    <tr>\n",
       "      <th>3</th>\n",
       "      <td>/project/GutIntelligenceLab/ss4yd/gtex_data/pr...</td>\n",
       "      <td>GTEX-R45C-1426</td>\n",
       "    </tr>\n",
       "    <tr>\n",
       "      <th>4</th>\n",
       "      <td>/project/GutIntelligenceLab/ss4yd/gtex_data/pr...</td>\n",
       "      <td>GTEX-R45C-1426</td>\n",
       "    </tr>\n",
       "    <tr>\n",
       "      <th>...</th>\n",
       "      <td>...</td>\n",
       "      <td>...</td>\n",
       "    </tr>\n",
       "    <tr>\n",
       "      <th>715174</th>\n",
       "      <td>/project/GutIntelligenceLab/ss4yd/gtex_data/pr...</td>\n",
       "      <td>GTEX-1I1GV-3026</td>\n",
       "    </tr>\n",
       "    <tr>\n",
       "      <th>715175</th>\n",
       "      <td>/project/GutIntelligenceLab/ss4yd/gtex_data/pr...</td>\n",
       "      <td>GTEX-1I1GV-3026</td>\n",
       "    </tr>\n",
       "    <tr>\n",
       "      <th>715176</th>\n",
       "      <td>/project/GutIntelligenceLab/ss4yd/gtex_data/pr...</td>\n",
       "      <td>GTEX-1I1GV-3026</td>\n",
       "    </tr>\n",
       "    <tr>\n",
       "      <th>715177</th>\n",
       "      <td>/project/GutIntelligenceLab/ss4yd/gtex_data/pr...</td>\n",
       "      <td>GTEX-1I1GV-3026</td>\n",
       "    </tr>\n",
       "    <tr>\n",
       "      <th>715178</th>\n",
       "      <td>/project/GutIntelligenceLab/ss4yd/gtex_data/pr...</td>\n",
       "      <td>GTEX-1I1GV-3026</td>\n",
       "    </tr>\n",
       "  </tbody>\n",
       "</table>\n",
       "<p>679119 rows × 2 columns</p>\n",
       "</div>"
      ],
      "text/plain": [
       "                                              patch_paths              pid\n",
       "0       /project/GutIntelligenceLab/ss4yd/gtex_data/pr...   GTEX-R45C-1426\n",
       "1       /project/GutIntelligenceLab/ss4yd/gtex_data/pr...   GTEX-R45C-1426\n",
       "2       /project/GutIntelligenceLab/ss4yd/gtex_data/pr...   GTEX-R45C-1426\n",
       "3       /project/GutIntelligenceLab/ss4yd/gtex_data/pr...   GTEX-R45C-1426\n",
       "4       /project/GutIntelligenceLab/ss4yd/gtex_data/pr...   GTEX-R45C-1426\n",
       "...                                                   ...              ...\n",
       "715174  /project/GutIntelligenceLab/ss4yd/gtex_data/pr...  GTEX-1I1GV-3026\n",
       "715175  /project/GutIntelligenceLab/ss4yd/gtex_data/pr...  GTEX-1I1GV-3026\n",
       "715176  /project/GutIntelligenceLab/ss4yd/gtex_data/pr...  GTEX-1I1GV-3026\n",
       "715177  /project/GutIntelligenceLab/ss4yd/gtex_data/pr...  GTEX-1I1GV-3026\n",
       "715178  /project/GutIntelligenceLab/ss4yd/gtex_data/pr...  GTEX-1I1GV-3026\n",
       "\n",
       "[679119 rows x 2 columns]"
      ]
     },
     "execution_count": 6,
     "metadata": {},
     "output_type": "execute_result"
    }
   ],
   "source": [
    "filter_index = list(counts[counts>50].index)\n",
    "fdf = df[df.pid.isin(filter_index)]\n",
    "fdf"
   ]
  },
  {
   "cell_type": "code",
   "execution_count": 8,
   "metadata": {},
   "outputs": [],
   "source": [
    "# unique_pid = pd.unique(fdf.pid)\n",
    "# unique_pid.split((0.75,0.15,0.10))"
   ]
  },
  {
   "cell_type": "code",
   "execution_count": 7,
   "metadata": {},
   "outputs": [],
   "source": [
    "with open('../paths.pickle', 'rb') as file:\n",
    "    paths = pickle.load(file)"
   ]
  },
  {
   "cell_type": "code",
   "execution_count": 8,
   "metadata": {},
   "outputs": [
    {
     "name": "stdout",
     "output_type": "stream",
     "text": [
      "Len before filter: 715136\n",
      "Len after filter: 679076\n"
     ]
    }
   ],
   "source": [
    "reps = np.load('/project/GutIntelligenceLab/ss4yd/gtex_data/all_reps.npy')\n",
    "\n",
    "reps.shape\n",
    "\n",
    "len(paths)\n",
    "\n",
    "repsdf = pd.DataFrame(reps)\n",
    "\n",
    "repsdf['paths'] = paths\n",
    "\n",
    "# train, validate, test = np.split(repsdf.sample(frac=1, random_state=42), [int(.75*len(repsdf)), int(.9*len(repsdf))])\n",
    "\n",
    "# train['dtype']='train'\n",
    "# validate['dtype']='val'\n",
    "# test['dtype']='test'\n",
    "\n",
    "# repsdf = pd.concat([train, validate, test])\n",
    "repsdf['pid'] = repsdf['paths'].apply(lambda x: x.split('/')[-2])\n",
    "\n",
    "split = pd.read_csv('../csv/train_test_val_split.csv')\n",
    "\n",
    "repsdf = repsdf.merge(split, on='pid')\n",
    "\n",
    "print(\"Len before filter: {}\".format(len(repsdf)))\n",
    "repsdf = repsdf[repsdf.pid.isin(filter_index)]\n",
    "print(\"Len after filter: {}\".format(len(repsdf)))"
   ]
  },
  {
   "cell_type": "code",
   "execution_count": 9,
   "metadata": {
    "scrolled": true
   },
   "outputs": [],
   "source": [
    "repsdf.to_csv('/project/GutIntelligenceLab/ss4yd/gtex_data/reps_paths.csv', index=False)"
   ]
  }
 ],
 "metadata": {
  "kernelspec": {
   "display_name": "PyTorch 1.10.0",
   "language": "python",
   "name": "pytorch-1.10.0"
  },
  "language_info": {
   "codemirror_mode": {
    "name": "ipython",
    "version": 3
   },
   "file_extension": ".py",
   "mimetype": "text/x-python",
   "name": "python",
   "nbconvert_exporter": "python",
   "pygments_lexer": "ipython3",
   "version": "3.8.12"
  }
 },
 "nbformat": 4,
 "nbformat_minor": 4
}
