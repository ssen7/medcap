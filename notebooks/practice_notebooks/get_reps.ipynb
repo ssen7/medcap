{
 "cells": [
  {
   "cell_type": "code",
   "execution_count": 23,
   "metadata": {},
   "outputs": [],
   "source": [
    "import torch\n",
    "import torch.nn as nn\n",
    "import torchvision.models.resnet as resnet\n",
    "\n",
    "from datasets import GetRepsDataset\n",
    "import os\n",
    "from torchvision.io import read_image, ImageReadMode\n",
    "# from torchvision.transforms import ToTensor\n",
    "import torchvision.transforms as transforms\n",
    "from tqdm.notebook import trange, tqdm\n",
    "\n",
    "import numpy as np"
   ]
  },
  {
   "cell_type": "code",
   "execution_count": 2,
   "metadata": {},
   "outputs": [],
   "source": [
    "model = nn.Sequential(*list(resnet.resnet18(pretrained=True).children())[:-1])"
   ]
  },
  {
   "cell_type": "code",
   "execution_count": 3,
   "metadata": {},
   "outputs": [],
   "source": [
    "patch_path = '/project/GutIntelligenceLab/ss4yd/gtex_data/process_path_level1/'\n",
    "dirs = os.listdir(patch_path)\n",
    "dir_patch_dict = {}\n",
    "for pid in dirs:\n",
    "    patches = [os.path.join(patch_path, pid, x) for x in os.listdir(os.path.join(patch_path, pid))]\n",
    "    dir_patch_dict[pid] = patches"
   ]
  },
  {
   "cell_type": "code",
   "execution_count": 16,
   "metadata": {},
   "outputs": [],
   "source": [
    "normalize = transforms.Normalize((0.485, 0.456, 0.406), (0.229, 0.224, 0.225))\n",
    "batch_size = 64\n",
    "\n",
    "transform=transforms.Compose([\n",
    "    transforms.Resize([224,224]),\n",
    "    transforms.ConvertImageDtype(torch.float),\n",
    "    normalize,\n",
    "        ])\n",
    "\n",
    "dataset = GetRepsDataset(dir_patch_dict, transform)\n",
    "rep_loader = torch.utils.data.DataLoader(dataset,batch_size=batch_size, shuffle=False, num_workers=1, pin_memory=True)"
   ]
  },
  {
   "cell_type": "code",
   "execution_count": 5,
   "metadata": {},
   "outputs": [
    {
     "data": {
      "text/plain": [
       "(512, 1)"
      ]
     },
     "execution_count": 5,
     "metadata": {},
     "output_type": "execute_result"
    }
   ],
   "source": [
    "model(rep_loader.dataset.__getitem__(1)[0].unsqueeze(0)).reshape(-1,1).detach().numpy().shape"
   ]
  },
  {
   "cell_type": "code",
   "execution_count": 6,
   "metadata": {},
   "outputs": [
    {
     "data": {
      "text/plain": [
       "(tensor([[[ 0.3994,  0.5878,  0.9474,  ...,  0.8447,  0.9817,  1.5125],\n",
       "          [ 0.1083,  0.7591,  1.0502,  ...,  1.1529,  1.4269,  1.3070],\n",
       "          [ 0.3481,  0.3481,  0.3652,  ...,  1.2899,  1.3755,  1.3413],\n",
       "          ...,\n",
       "          [ 1.2043,  1.3070,  1.4954,  ..., -0.9534, -0.7308, -0.7137],\n",
       "          [ 1.7865,  1.7865,  1.7865,  ..., -0.9705, -1.3130, -1.0904],\n",
       "          [ 2.0434,  2.0263,  1.7180,  ..., -0.3712, -0.6965, -0.4911]],\n",
       " \n",
       "         [[-1.3179, -1.0553, -0.8452,  ..., -0.9503, -0.5826,  0.0476],\n",
       "          [-1.4055, -0.8452, -0.4076,  ..., -0.4601, -0.0049, -0.1275],\n",
       "          [-1.3179, -1.2829, -1.1429,  ..., -0.3200,  0.1877,  0.1352],\n",
       "          ...,\n",
       "          [ 0.4678,  0.2402,  0.8004,  ..., -1.7556, -1.6506, -1.6856],\n",
       "          [ 1.5882,  1.5707,  1.5357,  ..., -1.7906, -1.7031, -1.7731],\n",
       "          [ 2.0259,  1.9559,  1.4832,  ..., -1.3529, -1.7206, -1.6155]],\n",
       " \n",
       "         [[-0.3055, -0.1312,  0.0256,  ...,  0.0953,  0.3916,  1.0365],\n",
       "          [-0.4450,  0.1651,  0.6008,  ...,  0.5659,  0.9842,  0.7576],\n",
       "          [-0.3753, -0.3578, -0.3055,  ...,  0.6008,  1.0365,  1.0539],\n",
       "          ...,\n",
       "          [ 1.3154,  1.2282,  1.5071,  ..., -1.0027, -0.8284, -0.8110],\n",
       "          [ 2.0474,  2.0823,  2.0300,  ..., -0.9504, -1.0550, -0.9678],\n",
       "          [ 2.3263,  2.0648,  1.9603,  ..., -0.3578, -0.7238, -0.7587]]]),\n",
       " '/project/GutIntelligenceLab/ss4yd/gtex_data/process_path_level1/GTEX-R45C-1426/tile_31_level1_28641-11864-29665-12888.png')"
      ]
     },
     "execution_count": 6,
     "metadata": {},
     "output_type": "execute_result"
    }
   ],
   "source": [
    "rep_loader.dataset.__getitem__(1)"
   ]
  },
  {
   "cell_type": "code",
   "execution_count": 8,
   "metadata": {},
   "outputs": [
    {
     "name": "stdout",
     "output_type": "stream",
     "text": [
      "There are 1 GPU(s) available.\n",
      "Device name: Tesla K80\n"
     ]
    }
   ],
   "source": [
    "import torch\n",
    "import torch.nn as nn\n",
    "import torch.nn.functional as F\n",
    "\n",
    "def check_cuda():\n",
    "    if torch.cuda.is_available():       \n",
    "        device = torch.device(\"cuda\")\n",
    "        print(f'There are {torch.cuda.device_count()} GPU(s) available.')\n",
    "        print('Device name:', torch.cuda.get_device_name(0))\n",
    "        return device\n",
    "    else:\n",
    "        print('No GPU available, using the CPU instead.')\n",
    "        device = torch.device(\"cpu\")\n",
    "        return device\n",
    "    \n",
    "device=check_cuda()"
   ]
  },
  {
   "cell_type": "code",
   "execution_count": 9,
   "metadata": {},
   "outputs": [],
   "source": [
    "model = model.to(device)"
   ]
  },
  {
   "cell_type": "code",
   "execution_count": null,
   "metadata": {},
   "outputs": [],
   "source": [
    "rep_list = []\n",
    "model.eval()\n",
    "for img, path in tqdm(rep_loader):\n",
    "    \n",
    "    img = img.to(device)\n",
    "    \n",
    "    reps = model(img)\n",
    "    rep_list.append(reps.detach().detach().cpu().numpy().reshape(batch_size, -1))"
   ]
  },
  {
   "cell_type": "code",
   "execution_count": 44,
   "metadata": {},
   "outputs": [],
   "source": [
    "rep_array = np.concatenate(rep_list[:-1], axis=0)\n",
    "np.save('all_reps',rep_array)"
   ]
  },
  {
   "cell_type": "code",
   "execution_count": 34,
   "metadata": {},
   "outputs": [],
   "source": [
    "np.save('reps',np.concatenate(rep_list))"
   ]
  },
  {
   "cell_type": "code",
   "execution_count": 47,
   "metadata": {
    "scrolled": true
   },
   "outputs": [
    {
     "data": {
      "application/vnd.jupyter.widget-view+json": {
       "model_id": "85925246209249c3a1b8c2e04e632d11",
       "version_major": 2,
       "version_minor": 0
      },
      "text/plain": [
       "  0%|          | 0/11175 [00:00<?, ?it/s]"
      ]
     },
     "metadata": {},
     "output_type": "display_data"
    },
    {
     "ename": "KeyboardInterrupt",
     "evalue": "",
     "output_type": "error",
     "traceback": [
      "\u001b[0;31m---------------------------------------------------------------------------\u001b[0m",
      "\u001b[0;31mKeyboardInterrupt\u001b[0m                         Traceback (most recent call last)",
      "\u001b[0;32m/usr/local/lib/python3.8/site-packages/torch/utils/data/dataloader.py\u001b[0m in \u001b[0;36m__next__\u001b[0;34m(self)\u001b[0m\n\u001b[1;32m    520\u001b[0m                 \u001b[0mself\u001b[0m\u001b[0;34m.\u001b[0m\u001b[0m_reset\u001b[0m\u001b[0;34m(\u001b[0m\u001b[0;34m)\u001b[0m\u001b[0;34m\u001b[0m\u001b[0;34m\u001b[0m\u001b[0m\n\u001b[0;32m--> 521\u001b[0;31m             \u001b[0mdata\u001b[0m \u001b[0;34m=\u001b[0m \u001b[0mself\u001b[0m\u001b[0;34m.\u001b[0m\u001b[0m_next_data\u001b[0m\u001b[0;34m(\u001b[0m\u001b[0;34m)\u001b[0m\u001b[0;34m\u001b[0m\u001b[0;34m\u001b[0m\u001b[0m\n\u001b[0m\u001b[1;32m    522\u001b[0m             \u001b[0mself\u001b[0m\u001b[0;34m.\u001b[0m\u001b[0m_num_yielded\u001b[0m \u001b[0;34m+=\u001b[0m \u001b[0;36m1\u001b[0m\u001b[0;34m\u001b[0m\u001b[0;34m\u001b[0m\u001b[0m\n",
      "\u001b[0;32m/usr/local/lib/python3.8/site-packages/torch/utils/data/dataloader.py\u001b[0m in \u001b[0;36m_next_data\u001b[0;34m(self)\u001b[0m\n\u001b[1;32m   1185\u001b[0m             \u001b[0;32massert\u001b[0m \u001b[0;32mnot\u001b[0m \u001b[0mself\u001b[0m\u001b[0;34m.\u001b[0m\u001b[0m_shutdown\u001b[0m \u001b[0;32mand\u001b[0m \u001b[0mself\u001b[0m\u001b[0;34m.\u001b[0m\u001b[0m_tasks_outstanding\u001b[0m \u001b[0;34m>\u001b[0m \u001b[0;36m0\u001b[0m\u001b[0;34m\u001b[0m\u001b[0;34m\u001b[0m\u001b[0m\n\u001b[0;32m-> 1186\u001b[0;31m             \u001b[0midx\u001b[0m\u001b[0;34m,\u001b[0m \u001b[0mdata\u001b[0m \u001b[0;34m=\u001b[0m \u001b[0mself\u001b[0m\u001b[0;34m.\u001b[0m\u001b[0m_get_data\u001b[0m\u001b[0;34m(\u001b[0m\u001b[0;34m)\u001b[0m\u001b[0;34m\u001b[0m\u001b[0;34m\u001b[0m\u001b[0m\n\u001b[0m\u001b[1;32m   1187\u001b[0m             \u001b[0mself\u001b[0m\u001b[0;34m.\u001b[0m\u001b[0m_tasks_outstanding\u001b[0m \u001b[0;34m-=\u001b[0m \u001b[0;36m1\u001b[0m\u001b[0;34m\u001b[0m\u001b[0;34m\u001b[0m\u001b[0m\n",
      "\u001b[0;32m/usr/local/lib/python3.8/site-packages/torch/utils/data/dataloader.py\u001b[0m in \u001b[0;36m_get_data\u001b[0;34m(self)\u001b[0m\n\u001b[1;32m   1141\u001b[0m             \u001b[0;32mwhile\u001b[0m \u001b[0mself\u001b[0m\u001b[0;34m.\u001b[0m\u001b[0m_pin_memory_thread\u001b[0m\u001b[0;34m.\u001b[0m\u001b[0mis_alive\u001b[0m\u001b[0;34m(\u001b[0m\u001b[0;34m)\u001b[0m\u001b[0;34m:\u001b[0m\u001b[0;34m\u001b[0m\u001b[0;34m\u001b[0m\u001b[0m\n\u001b[0;32m-> 1142\u001b[0;31m                 \u001b[0msuccess\u001b[0m\u001b[0;34m,\u001b[0m \u001b[0mdata\u001b[0m \u001b[0;34m=\u001b[0m \u001b[0mself\u001b[0m\u001b[0;34m.\u001b[0m\u001b[0m_try_get_data\u001b[0m\u001b[0;34m(\u001b[0m\u001b[0;34m)\u001b[0m\u001b[0;34m\u001b[0m\u001b[0;34m\u001b[0m\u001b[0m\n\u001b[0m\u001b[1;32m   1143\u001b[0m                 \u001b[0;32mif\u001b[0m \u001b[0msuccess\u001b[0m\u001b[0;34m:\u001b[0m\u001b[0;34m\u001b[0m\u001b[0;34m\u001b[0m\u001b[0m\n",
      "\u001b[0;32m/usr/local/lib/python3.8/site-packages/torch/utils/data/dataloader.py\u001b[0m in \u001b[0;36m_try_get_data\u001b[0;34m(self, timeout)\u001b[0m\n\u001b[1;32m    989\u001b[0m         \u001b[0;32mtry\u001b[0m\u001b[0;34m:\u001b[0m\u001b[0;34m\u001b[0m\u001b[0;34m\u001b[0m\u001b[0m\n\u001b[0;32m--> 990\u001b[0;31m             \u001b[0mdata\u001b[0m \u001b[0;34m=\u001b[0m \u001b[0mself\u001b[0m\u001b[0;34m.\u001b[0m\u001b[0m_data_queue\u001b[0m\u001b[0;34m.\u001b[0m\u001b[0mget\u001b[0m\u001b[0;34m(\u001b[0m\u001b[0mtimeout\u001b[0m\u001b[0;34m=\u001b[0m\u001b[0mtimeout\u001b[0m\u001b[0;34m)\u001b[0m\u001b[0;34m\u001b[0m\u001b[0;34m\u001b[0m\u001b[0m\n\u001b[0m\u001b[1;32m    991\u001b[0m             \u001b[0;32mreturn\u001b[0m \u001b[0;34m(\u001b[0m\u001b[0;32mTrue\u001b[0m\u001b[0;34m,\u001b[0m \u001b[0mdata\u001b[0m\u001b[0;34m)\u001b[0m\u001b[0;34m\u001b[0m\u001b[0;34m\u001b[0m\u001b[0m\n",
      "\u001b[0;32m/usr/local/lib/python3.8/queue.py\u001b[0m in \u001b[0;36mget\u001b[0;34m(self, block, timeout)\u001b[0m\n\u001b[1;32m    178\u001b[0m                         \u001b[0;32mraise\u001b[0m \u001b[0mEmpty\u001b[0m\u001b[0;34m\u001b[0m\u001b[0;34m\u001b[0m\u001b[0m\n\u001b[0;32m--> 179\u001b[0;31m                     \u001b[0mself\u001b[0m\u001b[0;34m.\u001b[0m\u001b[0mnot_empty\u001b[0m\u001b[0;34m.\u001b[0m\u001b[0mwait\u001b[0m\u001b[0;34m(\u001b[0m\u001b[0mremaining\u001b[0m\u001b[0;34m)\u001b[0m\u001b[0;34m\u001b[0m\u001b[0;34m\u001b[0m\u001b[0m\n\u001b[0m\u001b[1;32m    180\u001b[0m             \u001b[0mitem\u001b[0m \u001b[0;34m=\u001b[0m \u001b[0mself\u001b[0m\u001b[0;34m.\u001b[0m\u001b[0m_get\u001b[0m\u001b[0;34m(\u001b[0m\u001b[0;34m)\u001b[0m\u001b[0;34m\u001b[0m\u001b[0;34m\u001b[0m\u001b[0m\n",
      "\u001b[0;32m/usr/local/lib/python3.8/threading.py\u001b[0m in \u001b[0;36mwait\u001b[0;34m(self, timeout)\u001b[0m\n\u001b[1;32m    305\u001b[0m                 \u001b[0;32mif\u001b[0m \u001b[0mtimeout\u001b[0m \u001b[0;34m>\u001b[0m \u001b[0;36m0\u001b[0m\u001b[0;34m:\u001b[0m\u001b[0;34m\u001b[0m\u001b[0;34m\u001b[0m\u001b[0m\n\u001b[0;32m--> 306\u001b[0;31m                     \u001b[0mgotit\u001b[0m \u001b[0;34m=\u001b[0m \u001b[0mwaiter\u001b[0m\u001b[0;34m.\u001b[0m\u001b[0macquire\u001b[0m\u001b[0;34m(\u001b[0m\u001b[0;32mTrue\u001b[0m\u001b[0;34m,\u001b[0m \u001b[0mtimeout\u001b[0m\u001b[0;34m)\u001b[0m\u001b[0;34m\u001b[0m\u001b[0;34m\u001b[0m\u001b[0m\n\u001b[0m\u001b[1;32m    307\u001b[0m                 \u001b[0;32melse\u001b[0m\u001b[0;34m:\u001b[0m\u001b[0;34m\u001b[0m\u001b[0;34m\u001b[0m\u001b[0m\n",
      "\u001b[0;31mKeyboardInterrupt\u001b[0m: ",
      "\nDuring handling of the above exception, another exception occurred:\n",
      "\u001b[0;31mKeyboardInterrupt\u001b[0m                         Traceback (most recent call last)",
      "\u001b[0;32m/tmp/ipykernel_25529/3590474306.py\u001b[0m in \u001b[0;36m<module>\u001b[0;34m\u001b[0m\n\u001b[1;32m      1\u001b[0m \u001b[0mpath_list\u001b[0m \u001b[0;34m=\u001b[0m \u001b[0;34m[\u001b[0m\u001b[0;34m]\u001b[0m\u001b[0;34m\u001b[0m\u001b[0;34m\u001b[0m\u001b[0m\n\u001b[0;32m----> 2\u001b[0;31m \u001b[0;32mfor\u001b[0m \u001b[0mimg\u001b[0m\u001b[0;34m,\u001b[0m \u001b[0mpath\u001b[0m \u001b[0;32min\u001b[0m \u001b[0mtqdm\u001b[0m\u001b[0;34m(\u001b[0m\u001b[0mrep_loader\u001b[0m\u001b[0;34m)\u001b[0m\u001b[0;34m:\u001b[0m\u001b[0;34m\u001b[0m\u001b[0;34m\u001b[0m\u001b[0m\n\u001b[0m\u001b[1;32m      3\u001b[0m \u001b[0;34m\u001b[0m\u001b[0m\n\u001b[1;32m      4\u001b[0m     \u001b[0mpath_list\u001b[0m\u001b[0;34m.\u001b[0m\u001b[0mappend\u001b[0m\u001b[0;34m(\u001b[0m\u001b[0mpath\u001b[0m\u001b[0;34m)\u001b[0m\u001b[0;34m\u001b[0m\u001b[0;34m\u001b[0m\u001b[0m\n",
      "\u001b[0;32m/usr/local/lib/python3.8/site-packages/tqdm/notebook.py\u001b[0m in \u001b[0;36m__iter__\u001b[0;34m(self)\u001b[0m\n\u001b[1;32m    255\u001b[0m     \u001b[0;32mdef\u001b[0m \u001b[0m__iter__\u001b[0m\u001b[0;34m(\u001b[0m\u001b[0mself\u001b[0m\u001b[0;34m)\u001b[0m\u001b[0;34m:\u001b[0m\u001b[0;34m\u001b[0m\u001b[0;34m\u001b[0m\u001b[0m\n\u001b[1;32m    256\u001b[0m         \u001b[0;32mtry\u001b[0m\u001b[0;34m:\u001b[0m\u001b[0;34m\u001b[0m\u001b[0;34m\u001b[0m\u001b[0m\n\u001b[0;32m--> 257\u001b[0;31m             \u001b[0;32mfor\u001b[0m \u001b[0mobj\u001b[0m \u001b[0;32min\u001b[0m \u001b[0msuper\u001b[0m\u001b[0;34m(\u001b[0m\u001b[0mtqdm_notebook\u001b[0m\u001b[0;34m,\u001b[0m \u001b[0mself\u001b[0m\u001b[0;34m)\u001b[0m\u001b[0;34m.\u001b[0m\u001b[0m__iter__\u001b[0m\u001b[0;34m(\u001b[0m\u001b[0;34m)\u001b[0m\u001b[0;34m:\u001b[0m\u001b[0;34m\u001b[0m\u001b[0;34m\u001b[0m\u001b[0m\n\u001b[0m\u001b[1;32m    258\u001b[0m                 \u001b[0;31m# return super(tqdm...) will not catch exception\u001b[0m\u001b[0;34m\u001b[0m\u001b[0;34m\u001b[0m\u001b[0;34m\u001b[0m\u001b[0m\n\u001b[1;32m    259\u001b[0m                 \u001b[0;32myield\u001b[0m \u001b[0mobj\u001b[0m\u001b[0;34m\u001b[0m\u001b[0;34m\u001b[0m\u001b[0m\n",
      "\u001b[0;32m/usr/local/lib/python3.8/site-packages/tqdm/std.py\u001b[0m in \u001b[0;36m__iter__\u001b[0;34m(self)\u001b[0m\n\u001b[1;32m   1178\u001b[0m \u001b[0;34m\u001b[0m\u001b[0m\n\u001b[1;32m   1179\u001b[0m         \u001b[0;32mtry\u001b[0m\u001b[0;34m:\u001b[0m\u001b[0;34m\u001b[0m\u001b[0;34m\u001b[0m\u001b[0m\n\u001b[0;32m-> 1180\u001b[0;31m             \u001b[0;32mfor\u001b[0m \u001b[0mobj\u001b[0m \u001b[0;32min\u001b[0m \u001b[0miterable\u001b[0m\u001b[0;34m:\u001b[0m\u001b[0;34m\u001b[0m\u001b[0;34m\u001b[0m\u001b[0m\n\u001b[0m\u001b[1;32m   1181\u001b[0m                 \u001b[0;32myield\u001b[0m \u001b[0mobj\u001b[0m\u001b[0;34m\u001b[0m\u001b[0;34m\u001b[0m\u001b[0m\n\u001b[1;32m   1182\u001b[0m                 \u001b[0;31m# Update and possibly print the progressbar.\u001b[0m\u001b[0;34m\u001b[0m\u001b[0;34m\u001b[0m\u001b[0;34m\u001b[0m\u001b[0m\n",
      "\u001b[0;32m/usr/local/lib/python3.8/site-packages/torch/utils/data/dataloader.py\u001b[0m in \u001b[0;36m__next__\u001b[0;34m(self)\u001b[0m\n\u001b[1;32m    532\u001b[0m                                  \"https://pytorch.org/docs/stable/data.html#torch.utils.data.IterableDataset for examples.\")\n\u001b[1;32m    533\u001b[0m                 \u001b[0mwarnings\u001b[0m\u001b[0;34m.\u001b[0m\u001b[0mwarn\u001b[0m\u001b[0;34m(\u001b[0m\u001b[0mwarn_msg\u001b[0m\u001b[0;34m)\u001b[0m\u001b[0;34m\u001b[0m\u001b[0;34m\u001b[0m\u001b[0m\n\u001b[0;32m--> 534\u001b[0;31m             \u001b[0;32mreturn\u001b[0m \u001b[0mdata\u001b[0m\u001b[0;34m\u001b[0m\u001b[0;34m\u001b[0m\u001b[0m\n\u001b[0m\u001b[1;32m    535\u001b[0m \u001b[0;34m\u001b[0m\u001b[0m\n\u001b[1;32m    536\u001b[0m     \u001b[0mnext\u001b[0m \u001b[0;34m=\u001b[0m \u001b[0m__next__\u001b[0m  \u001b[0;31m# Python 2 compatibility\u001b[0m\u001b[0;34m\u001b[0m\u001b[0;34m\u001b[0m\u001b[0m\n",
      "\u001b[0;32m/usr/local/lib/python3.8/site-packages/torch/autograd/profiler.py\u001b[0m in \u001b[0;36m__exit__\u001b[0;34m(self, exc_type, exc_value, traceback)\u001b[0m\n\u001b[1;32m    438\u001b[0m     \u001b[0;32mdef\u001b[0m \u001b[0m__exit__\u001b[0m\u001b[0;34m(\u001b[0m\u001b[0mself\u001b[0m\u001b[0;34m,\u001b[0m \u001b[0mexc_type\u001b[0m\u001b[0;34m:\u001b[0m \u001b[0mAny\u001b[0m\u001b[0;34m,\u001b[0m \u001b[0mexc_value\u001b[0m\u001b[0;34m:\u001b[0m \u001b[0mAny\u001b[0m\u001b[0;34m,\u001b[0m \u001b[0mtraceback\u001b[0m\u001b[0;34m:\u001b[0m \u001b[0mAny\u001b[0m\u001b[0;34m)\u001b[0m\u001b[0;34m:\u001b[0m\u001b[0;34m\u001b[0m\u001b[0;34m\u001b[0m\u001b[0m\n\u001b[1;32m    439\u001b[0m         \u001b[0;32mif\u001b[0m \u001b[0mself\u001b[0m\u001b[0;34m.\u001b[0m\u001b[0mrun_callbacks_on_exit\u001b[0m\u001b[0;34m:\u001b[0m\u001b[0;34m\u001b[0m\u001b[0;34m\u001b[0m\u001b[0m\n\u001b[0;32m--> 440\u001b[0;31m             \u001b[0mtorch\u001b[0m\u001b[0;34m.\u001b[0m\u001b[0mops\u001b[0m\u001b[0;34m.\u001b[0m\u001b[0mprofiler\u001b[0m\u001b[0;34m.\u001b[0m\u001b[0m_record_function_exit\u001b[0m\u001b[0;34m(\u001b[0m\u001b[0mself\u001b[0m\u001b[0;34m.\u001b[0m\u001b[0mhandle\u001b[0m\u001b[0;34m)\u001b[0m\u001b[0;34m\u001b[0m\u001b[0;34m\u001b[0m\u001b[0m\n\u001b[0m\u001b[1;32m    441\u001b[0m \u001b[0;34m\u001b[0m\u001b[0m\n\u001b[1;32m    442\u001b[0m     \u001b[0;32mdef\u001b[0m \u001b[0m_call_end_callbacks_on_future\u001b[0m\u001b[0;34m(\u001b[0m\u001b[0mself\u001b[0m\u001b[0;34m,\u001b[0m \u001b[0mfut\u001b[0m\u001b[0;34m:\u001b[0m \u001b[0mFuture\u001b[0m\u001b[0;34m[\u001b[0m\u001b[0mAny\u001b[0m\u001b[0;34m]\u001b[0m\u001b[0;34m)\u001b[0m \u001b[0;34m->\u001b[0m \u001b[0mFuture\u001b[0m\u001b[0;34m[\u001b[0m\u001b[0mAny\u001b[0m\u001b[0;34m]\u001b[0m\u001b[0;34m:\u001b[0m\u001b[0;34m\u001b[0m\u001b[0;34m\u001b[0m\u001b[0m\n",
      "\u001b[0;31mKeyboardInterrupt\u001b[0m: "
     ]
    }
   ],
   "source": [
    "path_list = []\n",
    "for img, path in tqdm(rep_loader):\n",
    "    \n",
    "    path_list.append(path)"
   ]
  },
  {
   "cell_type": "code",
   "execution_count": 46,
   "metadata": {},
   "outputs": [],
   "source": [
    "newrep_list = rep_list[:-1]"
   ]
  },
  {
   "cell_type": "code",
   "execution_count": 45,
   "metadata": {
    "scrolled": true
   },
   "outputs": [
    {
     "data": {
      "text/plain": [
       "['/project/GutIntelligenceLab/ss4yd/gtex_data/process_path_level1/GTEX-1I1GV-3026/tile_22_level1_27873-10368-28897-11392.png',\n",
       " '/project/GutIntelligenceLab/ss4yd/gtex_data/process_path_level1/GTEX-1I1GV-3026/tile_290_level1_40162-21633-41186-22657.png',\n",
       " '/project/GutIntelligenceLab/ss4yd/gtex_data/process_path_level1/GTEX-1I1GV-3026/tile_264_level1_39138-8320-40162-9344.png',\n",
       " '/project/GutIntelligenceLab/ss4yd/gtex_data/process_path_level1/GTEX-1I1GV-3026/tile_277_level1_39138-25730-40162-26754.png',\n",
       " '/project/GutIntelligenceLab/ss4yd/gtex_data/process_path_level1/GTEX-1I1GV-3026/tile_78_level1_29921-29826-30945-30850.png',\n",
       " '/project/GutIntelligenceLab/ss4yd/gtex_data/process_path_level1/GTEX-1I1GV-3026/tile_201_level1_36066-8320-37090-9344.png',\n",
       " '/project/GutIntelligenceLab/ss4yd/gtex_data/process_path_level1/GTEX-1I1GV-3026/tile_34_level1_28897-5248-29921-6272.png',\n",
       " '/project/GutIntelligenceLab/ss4yd/gtex_data/process_path_level1/GTEX-1I1GV-3026/tile_97_level1_30945-21633-31970-22657.png',\n",
       " '/project/GutIntelligenceLab/ss4yd/gtex_data/process_path_level1/GTEX-1I1GV-3026/tile_307_level1_42210-9344-43234-10368.png',\n",
       " '/project/GutIntelligenceLab/ss4yd/gtex_data/process_path_level1/GTEX-1I1GV-3026/tile_251_level1_38114-15489-39138-16513.png',\n",
       " '/project/GutIntelligenceLab/ss4yd/gtex_data/process_path_level1/GTEX-1I1GV-3026/tile_312_level1_43234-9344-44258-10368.png',\n",
       " '/project/GutIntelligenceLab/ss4yd/gtex_data/process_path_level1/GTEX-1I1GV-3026/tile_119_level1_31970-16513-32994-17537.png',\n",
       " '/project/GutIntelligenceLab/ss4yd/gtex_data/process_path_level1/GTEX-1I1GV-3026/tile_250_level1_38114-14465-39138-15489.png',\n",
       " '/project/GutIntelligenceLab/ss4yd/gtex_data/process_path_level1/GTEX-1I1GV-3026/tile_70_level1_29921-21633-30945-22657.png',\n",
       " '/project/GutIntelligenceLab/ss4yd/gtex_data/process_path_level1/GTEX-1I1GV-3026/tile_214_level1_36066-24706-37090-25730.png',\n",
       " '/project/GutIntelligenceLab/ss4yd/gtex_data/process_path_level1/GTEX-1I1GV-3026/tile_237_level1_37090-25730-38114-26754.png',\n",
       " '/project/GutIntelligenceLab/ss4yd/gtex_data/process_path_level1/GTEX-1I1GV-3026/tile_270_level1_39138-14465-40162-15489.png',\n",
       " '/project/GutIntelligenceLab/ss4yd/gtex_data/process_path_level1/GTEX-1I1GV-3026/tile_144_level1_32994-16513-34018-17537.png',\n",
       " '/project/GutIntelligenceLab/ss4yd/gtex_data/process_path_level1/GTEX-1I1GV-3026/tile_182_level1_35042-10368-36066-11392.png',\n",
       " '/project/GutIntelligenceLab/ss4yd/gtex_data/process_path_level1/GTEX-1I1GV-3026/tile_76_level1_29921-27778-30945-28802.png',\n",
       " '/project/GutIntelligenceLab/ss4yd/gtex_data/process_path_level1/GTEX-1I1GV-3026/tile_147_level1_32994-20609-34018-21633.png',\n",
       " '/project/GutIntelligenceLab/ss4yd/gtex_data/process_path_level1/GTEX-1I1GV-3026/tile_145_level1_32994-17537-34018-18561.png',\n",
       " '/project/GutIntelligenceLab/ss4yd/gtex_data/process_path_level1/GTEX-1I1GV-3026/tile_72_level1_29921-23681-30945-24706.png',\n",
       " '/project/GutIntelligenceLab/ss4yd/gtex_data/process_path_level1/GTEX-1I1GV-3026/tile_128_level1_31970-27778-32994-28802.png',\n",
       " '/project/GutIntelligenceLab/ss4yd/gtex_data/process_path_level1/GTEX-1I1GV-3026/tile_55_level1_28897-32898-29921-33922.png',\n",
       " '/project/GutIntelligenceLab/ss4yd/gtex_data/process_path_level1/GTEX-1I1GV-3026/tile_4_level1_26849-6272-27873-7296.png',\n",
       " '/project/GutIntelligenceLab/ss4yd/gtex_data/process_path_level1/GTEX-1I1GV-3026/tile_57_level1_29921-6272-30945-7296.png',\n",
       " '/project/GutIntelligenceLab/ss4yd/gtex_data/process_path_level1/GTEX-1I1GV-3026/tile_108_level1_31970-4224-32994-5248.png',\n",
       " '/project/GutIntelligenceLab/ss4yd/gtex_data/process_path_level1/GTEX-1I1GV-3026/tile_278_level1_39138-26754-40162-27778.png',\n",
       " '/project/GutIntelligenceLab/ss4yd/gtex_data/process_path_level1/GTEX-1I1GV-3026/tile_28_level1_27873-26754-28897-27778.png',\n",
       " '/project/GutIntelligenceLab/ss4yd/gtex_data/process_path_level1/GTEX-1I1GV-3026/tile_252_level1_38114-19585-39138-20609.png',\n",
       " '/project/GutIntelligenceLab/ss4yd/gtex_data/process_path_level1/GTEX-1I1GV-3026/tile_133_level1_32994-5248-34018-6272.png',\n",
       " '/project/GutIntelligenceLab/ss4yd/gtex_data/process_path_level1/GTEX-1I1GV-3026/tile_83_level1_30945-5248-31970-6272.png',\n",
       " '/project/GutIntelligenceLab/ss4yd/gtex_data/process_path_level1/GTEX-1I1GV-3026/tile_170_level1_34018-24706-35042-25730.png',\n",
       " '/project/GutIntelligenceLab/ss4yd/gtex_data/process_path_level1/GTEX-1I1GV-3026/tile_130_level1_31970-29826-32994-30850.png',\n",
       " '/project/GutIntelligenceLab/ss4yd/gtex_data/process_path_level1/GTEX-1I1GV-3026/tile_141_level1_32994-13441-34018-14465.png',\n",
       " '/project/GutIntelligenceLab/ss4yd/gtex_data/process_path_level1/GTEX-1I1GV-3026/tile_114_level1_31970-10368-32994-11392.png',\n",
       " '/project/GutIntelligenceLab/ss4yd/gtex_data/process_path_level1/GTEX-1I1GV-3026/tile_92_level1_30945-14465-31970-15489.png',\n",
       " '/project/GutIntelligenceLab/ss4yd/gtex_data/process_path_level1/GTEX-1I1GV-3026/tile_275_level1_39138-23681-40162-24706.png',\n",
       " '/project/GutIntelligenceLab/ss4yd/gtex_data/process_path_level1/GTEX-1I1GV-3026/tile_99_level1_30945-23681-31970-24706.png',\n",
       " '/project/GutIntelligenceLab/ss4yd/gtex_data/process_path_level1/GTEX-1I1GV-3026/tile_2_level1_25825-9344-26849-10368.png',\n",
       " '/project/GutIntelligenceLab/ss4yd/gtex_data/process_path_level1/GTEX-1I1GV-3026/tile_86_level1_30945-8320-31970-9344.png',\n",
       " '/project/GutIntelligenceLab/ss4yd/gtex_data/process_path_level1/GTEX-1I1GV-3026/tile_249_level1_38114-13441-39138-14465.png',\n",
       " '/project/GutIntelligenceLab/ss4yd/gtex_data/process_path_level1/GTEX-1LC47-0426/tile_3_level1_8348-8268-9372-9292.png',\n",
       " '/project/GutIntelligenceLab/ss4yd/gtex_data/process_path_level1/GTEX-1LC47-0426/tile_2_level1_6300-10316-7324-11340.png',\n",
       " '/project/GutIntelligenceLab/ss4yd/gtex_data/process_path_level1/GTEX-1LC47-0426/tile_0_level1_4252-8268-5276-9292.png',\n",
       " '/project/GutIntelligenceLab/ss4yd/gtex_data/process_path_level1/GTEX-1LC47-0426/tile_1_level1_5276-9292-6300-10316.png']"
      ]
     },
     "execution_count": 45,
     "metadata": {},
     "output_type": "execute_result"
    }
   ],
   "source": [
    "path"
   ]
  },
  {
   "cell_type": "code",
   "execution_count": 49,
   "metadata": {},
   "outputs": [],
   "source": [
    "orig_paths = [x for xs in dir_patch_dict.values() for x in xs]"
   ]
  },
  {
   "cell_type": "code",
   "execution_count": 66,
   "metadata": {},
   "outputs": [
    {
     "data": {
      "text/plain": [
       "715136"
      ]
     },
     "execution_count": 66,
     "metadata": {},
     "output_type": "execute_result"
    }
   ],
   "source": [
    "len(orig_paths[:-47])"
   ]
  },
  {
   "cell_type": "code",
   "execution_count": 63,
   "metadata": {},
   "outputs": [
    {
     "data": {
      "text/plain": [
       "(715136, 512)"
      ]
     },
     "execution_count": 63,
     "metadata": {},
     "output_type": "execute_result"
    }
   ],
   "source": [
    "rep_array.shape"
   ]
  },
  {
   "cell_type": "code",
   "execution_count": 69,
   "metadata": {},
   "outputs": [],
   "source": [
    "import pickle\n",
    "\n",
    "with open('paths.pickle', 'wb') as file:\n",
    "    pickle.dump(orig_paths[:-47], file)"
   ]
  },
  {
   "cell_type": "code",
   "execution_count": null,
   "metadata": {},
   "outputs": [],
   "source": []
  }
 ],
 "metadata": {
  "kernelspec": {
   "display_name": "PyTorch 1.10.0",
   "language": "python",
   "name": "pytorch-1.10.0"
  },
  "language_info": {
   "codemirror_mode": {
    "name": "ipython",
    "version": 3
   },
   "file_extension": ".py",
   "mimetype": "text/x-python",
   "name": "python",
   "nbconvert_exporter": "python",
   "pygments_lexer": "ipython3",
   "version": "3.8.12"
  }
 },
 "nbformat": 4,
 "nbformat_minor": 4
}
