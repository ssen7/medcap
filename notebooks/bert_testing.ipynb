{
 "cells": [
  {
   "cell_type": "code",
   "execution_count": 41,
   "metadata": {},
   "outputs": [],
   "source": [
    "from transformers import BertTokenizer, AutoTokenizer\n",
    "\n",
    "import pandas as pd\n",
    "import numpy as np\n",
    "\n",
    "import torch\n",
    "import torch.nn as nn\n",
    "\n",
    "#ref: https://mccormickml.com/2019/07/22/BERT-fine-tuning/"
   ]
  },
  {
   "cell_type": "code",
   "execution_count": 36,
   "metadata": {},
   "outputs": [],
   "source": [
    "tokenizer = AutoTokenizer.from_pretrained(\"emilyalsentzer/Bio_ClinicalBERT\")"
   ]
  },
  {
   "cell_type": "code",
   "execution_count": 38,
   "metadata": {},
   "outputs": [
    {
     "data": {
      "text/html": [
       "<div>\n",
       "<style scoped>\n",
       "    .dataframe tbody tr th:only-of-type {\n",
       "        vertical-align: middle;\n",
       "    }\n",
       "\n",
       "    .dataframe tbody tr th {\n",
       "        vertical-align: top;\n",
       "    }\n",
       "\n",
       "    .dataframe thead th {\n",
       "        text-align: right;\n",
       "    }\n",
       "</style>\n",
       "<table border=\"1\" class=\"dataframe\">\n",
       "  <thead>\n",
       "    <tr style=\"text-align: right;\">\n",
       "      <th></th>\n",
       "      <th>patch_paths</th>\n",
       "      <th>pid</th>\n",
       "      <th>cluster_assignment</th>\n",
       "      <th>complete_tokens</th>\n",
       "      <th>dtype</th>\n",
       "      <th>notes</th>\n",
       "    </tr>\n",
       "  </thead>\n",
       "  <tbody>\n",
       "    <tr>\n",
       "      <th>0</th>\n",
       "      <td>/project/GutIntelligenceLab/ss4yd/gtex_data/pr...</td>\n",
       "      <td>GTEX-R55E-1726</td>\n",
       "      <td>4</td>\n",
       "      <td>[2, pieces, 5x7, mm, broken, apart, good, morp...</td>\n",
       "      <td>train</td>\n",
       "      <td>2 pieces ~9.5x7 mm; 1 broken apart; good morph...</td>\n",
       "    </tr>\n",
       "    <tr>\n",
       "      <th>1</th>\n",
       "      <td>/project/GutIntelligenceLab/ss4yd/gtex_data/pr...</td>\n",
       "      <td>GTEX-R55E-1726</td>\n",
       "      <td>4</td>\n",
       "      <td>[2, pieces, 5x7, mm, broken, apart, good, morp...</td>\n",
       "      <td>train</td>\n",
       "      <td>2 pieces ~9.5x7 mm; 1 broken apart; good morph...</td>\n",
       "    </tr>\n",
       "    <tr>\n",
       "      <th>2</th>\n",
       "      <td>/project/GutIntelligenceLab/ss4yd/gtex_data/pr...</td>\n",
       "      <td>GTEX-R55E-1726</td>\n",
       "      <td>4</td>\n",
       "      <td>[2, pieces, 5x7, mm, broken, apart, good, morp...</td>\n",
       "      <td>train</td>\n",
       "      <td>2 pieces ~9.5x7 mm; 1 broken apart; good morph...</td>\n",
       "    </tr>\n",
       "    <tr>\n",
       "      <th>3</th>\n",
       "      <td>/project/GutIntelligenceLab/ss4yd/gtex_data/pr...</td>\n",
       "      <td>GTEX-R55E-1726</td>\n",
       "      <td>4</td>\n",
       "      <td>[2, pieces, 5x7, mm, broken, apart, good, morp...</td>\n",
       "      <td>train</td>\n",
       "      <td>2 pieces ~9.5x7 mm; 1 broken apart; good morph...</td>\n",
       "    </tr>\n",
       "    <tr>\n",
       "      <th>4</th>\n",
       "      <td>/project/GutIntelligenceLab/ss4yd/gtex_data/pr...</td>\n",
       "      <td>GTEX-R55E-1726</td>\n",
       "      <td>4</td>\n",
       "      <td>[2, pieces, 5x7, mm, broken, apart, good, morp...</td>\n",
       "      <td>train</td>\n",
       "      <td>2 pieces ~9.5x7 mm; 1 broken apart; good morph...</td>\n",
       "    </tr>\n",
       "  </tbody>\n",
       "</table>\n",
       "</div>"
      ],
      "text/plain": [
       "                                         patch_paths             pid  \\\n",
       "0  /project/GutIntelligenceLab/ss4yd/gtex_data/pr...  GTEX-R55E-1726   \n",
       "1  /project/GutIntelligenceLab/ss4yd/gtex_data/pr...  GTEX-R55E-1726   \n",
       "2  /project/GutIntelligenceLab/ss4yd/gtex_data/pr...  GTEX-R55E-1726   \n",
       "3  /project/GutIntelligenceLab/ss4yd/gtex_data/pr...  GTEX-R55E-1726   \n",
       "4  /project/GutIntelligenceLab/ss4yd/gtex_data/pr...  GTEX-R55E-1726   \n",
       "\n",
       "   cluster_assignment                                    complete_tokens  \\\n",
       "0                   4  [2, pieces, 5x7, mm, broken, apart, good, morp...   \n",
       "1                   4  [2, pieces, 5x7, mm, broken, apart, good, morp...   \n",
       "2                   4  [2, pieces, 5x7, mm, broken, apart, good, morp...   \n",
       "3                   4  [2, pieces, 5x7, mm, broken, apart, good, morp...   \n",
       "4                   4  [2, pieces, 5x7, mm, broken, apart, good, morp...   \n",
       "\n",
       "   dtype                                              notes  \n",
       "0  train  2 pieces ~9.5x7 mm; 1 broken apart; good morph...  \n",
       "1  train  2 pieces ~9.5x7 mm; 1 broken apart; good morph...  \n",
       "2  train  2 pieces ~9.5x7 mm; 1 broken apart; good morph...  \n",
       "3  train  2 pieces ~9.5x7 mm; 1 broken apart; good morph...  \n",
       "4  train  2 pieces ~9.5x7 mm; 1 broken apart; good morph...  "
      ]
     },
     "execution_count": 38,
     "metadata": {},
     "output_type": "execute_result"
    }
   ],
   "source": [
    "df = pd.read_pickle('../csv/generating_training_df.pickle')\n",
    "df.columns = ['patch_paths', 'pid', 'cluster_assignment', 'complete_tokens','dtype', 'notes']\n",
    "df.head()"
   ]
  },
  {
   "cell_type": "code",
   "execution_count": 39,
   "metadata": {},
   "outputs": [],
   "source": [
    "# token_dict = tokenizer.encode_plus()"
   ]
  },
  {
   "cell_type": "code",
   "execution_count": 42,
   "metadata": {},
   "outputs": [
    {
     "name": "stdout",
     "output_type": "stream",
     "text": [
      "Max sentence length:  75\n"
     ]
    }
   ],
   "source": [
    "max_len = 0\n",
    "\n",
    "# For every sentence...\n",
    "for sent in df.notes:\n",
    "\n",
    "    # Tokenize the text and add `[CLS]` and `[SEP]` tokens.\n",
    "    input_ids = tokenizer.encode(sent, add_special_tokens=True)\n",
    "\n",
    "    # Update the maximum sentence length.\n",
    "    max_len = max(max_len, len(input_ids))\n",
    "\n",
    "print('Max sentence length: ', max_len)"
   ]
  },
  {
   "cell_type": "code",
   "execution_count": 32,
   "metadata": {},
   "outputs": [
    {
     "data": {
      "text/plain": [
       "[101,\n",
       " 123,\n",
       " 3423,\n",
       " 117,\n",
       " 199,\n",
       " 126,\n",
       " 110,\n",
       " 175,\n",
       " 2225,\n",
       " 2599,\n",
       " 117,\n",
       " 3687,\n",
       " 2042,\n",
       " 2913,\n",
       " 119,\n",
       " 2517,\n",
       " 2817,\n",
       " 1104,\n",
       " 1143,\n",
       " 7301,\n",
       " 10681,\n",
       " 25737,\n",
       " 177,\n",
       " 7904,\n",
       " 1643,\n",
       " 22992,\n",
       " 117,\n",
       " 4035,\n",
       " 1116,\n",
       " 13284,\n",
       " 4359,\n",
       " 102]"
      ]
     },
     "execution_count": 32,
     "metadata": {},
     "output_type": "execute_result"
    }
   ],
   "source": [
    "token_dict['input_ids'][0]"
   ]
  },
  {
   "cell_type": "code",
   "execution_count": 33,
   "metadata": {},
   "outputs": [
    {
     "name": "stdout",
     "output_type": "stream",
     "text": [
      "['[CLS]', '2', 'pieces', ',', '~', '5', '%', 'f', '##as', '##ca', ',', 'del', '##ine', '##ated', '.', 'minute', 'focus', 'of', 'me', '##so', '##the', '##lial', 'h', '##yer', '##p', '##lasia', ',', 'en', '##s', '##qua', '##red', '[SEP]']\n"
     ]
    }
   ],
   "source": [
    "print(tokenizer.convert_ids_to_tokens(token_dict['input_ids'][0]))"
   ]
  },
  {
   "cell_type": "code",
   "execution_count": 34,
   "metadata": {},
   "outputs": [
    {
     "name": "stdout",
     "output_type": "stream",
     "text": [
      "No GPU available, using the CPU instead.\n"
     ]
    }
   ],
   "source": [
    "def check_cuda():\n",
    "    if torch.cuda.is_available():       \n",
    "        device = torch.device(\"cuda\")\n",
    "        print(f'There are {torch.cuda.device_count()} GPU(s) available.')\n",
    "        print('Device name:', torch.cuda.get_device_name(0))\n",
    "        return device\n",
    "    else:\n",
    "        print('No GPU available, using the CPU instead.')\n",
    "        device = torch.device(\"cpu\")\n",
    "        return device\n",
    "    \n",
    "device=check_cuda()"
   ]
  },
  {
   "cell_type": "code",
   "execution_count": null,
   "metadata": {},
   "outputs": [],
   "source": [
    "tokenizer.encode_plus(\n",
    "                        sent,                      # Sentence to encode.\n",
    "                        add_special_tokens = True, # Add '[CLS]' and '[SEP]'\n",
    "                        max_length = 96,           # Pad & truncate all sentences.\n",
    "                        pad_to_max_length = True,\n",
    "                        return_attention_mask = True,   # Construct attn. masks.\n",
    "                        return_tensors = 'pt',     # Return pytorch tensors.\n",
    "                   )"
   ]
  },
  {
   "cell_type": "code",
   "execution_count": null,
   "metadata": {},
   "outputs": [],
   "source": []
  },
  {
   "cell_type": "code",
   "execution_count": null,
   "metadata": {},
   "outputs": [],
   "source": []
  }
 ],
 "metadata": {
  "kernelspec": {
   "display_name": "PyTorch 1.10.0",
   "language": "python",
   "name": "pytorch-1.10.0"
  },
  "language_info": {
   "codemirror_mode": {
    "name": "ipython",
    "version": 3
   },
   "file_extension": ".py",
   "mimetype": "text/x-python",
   "name": "python",
   "nbconvert_exporter": "python",
   "pygments_lexer": "ipython3",
   "version": "3.8.12"
  }
 },
 "nbformat": 4,
 "nbformat_minor": 4
}
